{
 "cells": [
  {
   "cell_type": "code",
   "execution_count": 15,
   "metadata": {},
   "outputs": [
    {
     "name": "stdout",
     "output_type": "stream",
     "text": [
      "❌ 영화 정보를 찾을 수 없습니다. 로딩이 안 되었거나 셀렉터가 잘못되었습니다.\n",
      "👉 HTML을 'debug.html'로 저장했어요. 직접 구조를 확인해보세요.\n"
     ]
    }
   ],
   "source": [
    "from selenium import webdriver\n",
    "from selenium.webdriver.chrome.options import Options\n",
    "from bs4 import BeautifulSoup\n",
    "import time\n",
    "\n",
    "# ✅ Chrome 옵션 설정\n",
    "options = Options()\n",
    "options.add_argument('--headless')\n",
    "options.add_argument('--disable-gpu')\n",
    "options.add_argument('--no-sandbox')\n",
    "options.add_argument(\"window-size=1920x1080\")\n",
    "options.add_argument(\"user-agent=Mozilla/5.0 (Windows NT 10.0; Win64; x64) AppleWebKit/537.36 (KHTML, like Gecko) Chrome/125.0.0.0 Safari/537.36\")\n",
    "\n",
    "# ✅ 드라이버 실행\n",
    "driver = webdriver.Chrome(options=options)\n",
    "\n",
    "# ✅ URL 설정\n",
    "url = 'http://www.cgv.co.kr/common/showtimes/iframeTheater.aspx?areacode=11&theatercode=0157&date=20250625'\n",
    "driver.get(url)\n",
    "\n",
    "# ✅ 로딩 기다리기 (시간 늘림)\n",
    "time.sleep(5)\n",
    "\n",
    "# ✅ HTML 가져오기\n",
    "html = driver.page_source\n",
    "soup = BeautifulSoup(html, 'html.parser')\n",
    "\n",
    "# ✅ 영화 블록들 가져오기\n",
    "movie_sections = soup.select('div.sect-showtimes > ul > li')\n",
    "\n",
    "# ✅ 예외 처리\n",
    "if not movie_sections:\n",
    "    print(\"❌ 영화 정보를 찾을 수 없습니다. 로딩이 안 되었거나 셀렉터가 잘못되었습니다.\")\n",
    "    with open('debug.html', 'w', encoding='utf-8') as f:\n",
    "        f.write(html)\n",
    "    print(\"👉 HTML을 'debug.html'로 저장했어요. 직접 구조를 확인해보세요.\")\n",
    "else:\n",
    "    for movie in movie_sections:\n",
    "        title_tag = movie.select_one('div.info-movie > a > strong')\n",
    "        if not title_tag:\n",
    "            continue\n",
    "        title = title_tag.text.strip()\n",
    "        print(f\"🎬 영화: {title}\")\n",
    "        \n",
    "        # 상영관 정보\n",
    "        theater_boxes = movie.select('div.type-hall')\n",
    "        for box in theater_boxes:\n",
    "            theater_name = box.select_one('div.info-hall > ul > li:nth-child(1)')\n",
    "            if not theater_name:\n",
    "                continue\n",
    "            timetable_tags = box.select('div.info-timetable > ul > li > a > em')\n",
    "            times = [t.text.strip() for t in timetable_tags]\n",
    "            print(f\"  🏢 상영관: {theater_name.text.strip()}\")\n",
    "            print(f\"     🕒 시간: {', '.join(times)}\")\n",
    "        print('-' * 40)\n",
    "\n",
    "driver.quit()\n"
   ]
  }
 ],
 "metadata": {
  "kernelspec": {
   "display_name": "Python 3",
   "language": "python",
   "name": "python3"
  },
  "language_info": {
   "codemirror_mode": {
    "name": "ipython",
    "version": 3
   },
   "file_extension": ".py",
   "mimetype": "text/x-python",
   "name": "python",
   "nbconvert_exporter": "python",
   "pygments_lexer": "ipython3",
   "version": "3.13.2"
  }
 },
 "nbformat": 4,
 "nbformat_minor": 2
}
