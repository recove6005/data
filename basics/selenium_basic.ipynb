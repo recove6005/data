{
 "cells": [
  {
   "cell_type": "code",
   "execution_count": 38,
   "metadata": {},
   "outputs": [],
   "source": [
    "# pip install selenium\n",
    "# pip install websriver-manager\n",
    "# https://korean.visitkorea.or.kr/main/main.do\n",
    "\n",
    "from bs4 import BeautifulSoup\n",
    "from selenium.webdriver.chrome.service import Service\n",
    "from selenium.webdriver.common.by import By\n",
    "from selenium.webdriver.support.ui import WebDriverWait\n",
    "from selenium.webdriver.support import expected_conditions as EC\n",
    "import time"
   ]
  },
  {
   "cell_type": "code",
   "execution_count": 50,
   "metadata": {},
   "outputs": [],
   "source": [
    "# 크롬 드라이버를 사용해 웹 브라우저 실행\n",
    "\n",
    "# 검색어 입력\n",
    "query_txt = input('What is the keyword to crawling? : ')\n",
    "\n",
    "# 크롬 드라이버 경로 (크롬드라이버는 현재 사용 중인 크롬 버전에 맞춰서 다운로드)\n",
    "path = \"C:\\\\Users\\\\hanib\\\\AndroidStudioProjects\\\\data\\\\chromedriver-win64\\\\chromedriver.exe\"\n",
    "\n",
    "service = Service(executable_path=path)\n",
    "\n",
    "# 자동으로 ChromeDriver 설치 및 실행\n",
    "# driver = webdriver.Chrom(ChromeDriverManager().install())\n",
    "driver = webdriver.Chrome(service=service)\n",
    "\n",
    "# 브라우저를 전체화면으로 실행 설정\n",
    "driver.maximize_window()\n",
    "\n",
    "# 웹사이트 열기\n",
    "driver.get(\"https://korean.visitkorea.or.kr/main/main.do\")\n",
    "\n",
    "# 로딩까지 최대 10초 대기\n",
    "wait = WebDriverWait(driver, 10)\n",
    "\n",
    "# 검색창이 클리커블 될 때까지 대기 후 클릭\n",
    "search_box = wait.until(EC.element_to_be_clickable((By.ID, \"inp_search\")))\n",
    "search_box.click()\n",
    "\n",
    "# 검색창에 검색어 입력\n",
    "element = driver.find_element(By.ID, \"inp_search_index\")\n",
    "element.send_keys(query_txt)\n",
    "\n",
    "# 검색 버튼을 눌러서 실행\n",
    "search_button = wait.until(EC.element_to_be_clickable((By.CSS_SELECTOR, \".btn_search\")))\n",
    "driver.execute_script(\"arguments[0].click();\", search_button)"
   ]
  },
  {
   "cell_type": "code",
   "execution_count": null,
   "metadata": {},
   "outputs": [],
   "source": []
  }
 ],
 "metadata": {
  "kernelspec": {
   "display_name": "Python 3",
   "language": "python",
   "name": "python3"
  },
  "language_info": {
   "codemirror_mode": {
    "name": "ipython",
    "version": 3
   },
   "file_extension": ".py",
   "mimetype": "text/x-python",
   "name": "python",
   "nbconvert_exporter": "python",
   "pygments_lexer": "ipython3",
   "version": "3.12.6"
  }
 },
 "nbformat": 4,
 "nbformat_minor": 2
}
